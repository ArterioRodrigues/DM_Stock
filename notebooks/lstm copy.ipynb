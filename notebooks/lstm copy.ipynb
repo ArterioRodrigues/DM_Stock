{
 "cells": [
  {
   "cell_type": "code",
   "execution_count": 164,
   "metadata": {},
   "outputs": [],
   "source": [
    "#Importing the Libraries\n",
    "from os import minor\n",
    "import pandas as pd\n",
    "import numpy as np\n",
    "import matplotlib.pyplot as plt\n",
    "from sklearn.preprocessing import MinMaxScaler\n",
    "from keras.layers import LSTM, Dense, Dropout\n",
    "from sklearn.model_selection import TimeSeriesSplit\n",
    "from keras.callbacks import EarlyStopping\n",
    "from keras.models import Sequential\n",
    "from keras.utils.vis_utils import plot_model\n",
    "import math"
   ]
  },
  {
   "cell_type": "code",
   "execution_count": null,
   "metadata": {},
   "outputs": [],
   "source": [
    "# Getting the data sets\n",
    "apple_df = pd.read_csv('../CSV/AAPL.csv', na_values=['null'], index_col='Date', parse_dates=True,infer_datetime_format=True)\n",
    "microsoft_df = pd.read_csv('../CSV/MSFT_kaggle.csv', na_values=['null'], index_col='Date', parse_dates=True,infer_datetime_format=True)\n"
   ]
  },
  {
   "cell_type": "code",
   "execution_count": 211,
   "metadata": {},
   "outputs": [
    {
     "name": "stdout",
     "output_type": "stream",
     "text": [
      "Apple                 Open      High       Low     Close  Adj Close     Volume\n",
      "Date                                                                    \n",
      "1980-12-12  0.128348  0.128906  0.128348  0.128348   0.100600  469033600\n",
      "1980-12-15  0.122210  0.122210  0.121652  0.121652   0.095352  175884800\n",
      "1980-12-16  0.113281  0.113281  0.112723  0.112723   0.088353  105728000\n",
      "1980-12-17  0.115513  0.116071  0.115513  0.115513   0.090540   86441600\n",
      "1980-12-18  0.118862  0.119420  0.118862  0.118862   0.093165   73449600 \n",
      "<<shape>> (10272, 6)\n",
      "Microsoft                 Open      High       Low     Close  Adj Close      Volume\n",
      "Date                                                                     \n",
      "1986-03-13  0.088542  0.101563  0.088542  0.097222   0.061434  1031788800\n",
      "1986-03-14  0.097222  0.102431  0.097222  0.100694   0.063628   308160000\n",
      "1986-03-17  0.100694  0.103299  0.100694  0.102431   0.064725   133171200\n",
      "1986-03-18  0.102431  0.103299  0.098958  0.099826   0.063079    67766400\n",
      "1986-03-19  0.099826  0.100694  0.097222  0.098090   0.061982    47894400 \n",
      "<<shape>> (9083, 6)\n"
     ]
    },
    {
     "data": {
      "image/png": "[encoded data removed]",
      "text/plain": [
       "<Figure size 432x288 with 1 Axes>"
      ]
     },
     "metadata": {
      "needs_background": "light"
     },
     "output_type": "display_data"
    }
   ],
   "source": [
    "\n",
    "#Get The Dataset\n",
    "# df = pd.read_csv('../CSV/MSFT_kaggle.csv', na_values=['null'], index_col='Date', parse_dates=True,infer_datetime_format=True)\n",
    "# df = pd.read_csv('../CSV/MSFT_short.csv', na_values=['null'], index_col='Date', parse_dates=True,infer_datetime_format=True)\n",
    "df = pd.read_csv('../CSV/AAPL.csv', na_values=['null'], index_col='Date', parse_dates=True,infer_datetime_format=True)\n",
    "\n",
    "apple_df = pd.read_csv('../CSV/AAPL.csv', na_values=['null'], index_col='Date', parse_dates=True,infer_datetime_format=True)\n",
    "microsoft_df = pd.read_csv('../CSV/MSFT_kaggle.csv', na_values=['null'], index_col='Date', parse_dates=True,infer_datetime_format=True)\n",
    "\n",
    "#showing what the data looks like\n",
    "print('Apple', apple_df.head(), '\\n<<shape>>', apple_df.shape)\n",
    "print('Microsoft', microsoft_df.head(), '\\n<<shape>>', microsoft_df.shape)\n",
    "\n",
    "\n",
    "#Print the shape of Dataframe and Check for Null values\n",
    "# print('Df Shape: ', df.shape)\n",
    "# print('Null values present: ', df.isnull().values.any())\n",
    "\n",
    "#plot the true adj close value\n",
    "# df['Adj Close'].plot()\n",
    "# plt.show()\n",
    "plt.plot(apple_df['Adj Close'], label='Apple Adj Close')\n",
    "# plt.plot(microsoft_df['Adj Close'], label='Microsoft Adj Close')\n",
    "plt.show()\n",
    "# apple_df['Adj Close'].plot(label='Apple Adj Close')\n",
    "# microsoft_df['Adj Close'].plot(label='Microsoft Adj Close')\n",
    "\n",
    "#Set Target Variable\n",
    "output_var = pd.DataFrame(df['Adj Close'])\n",
    "\n",
    "#Selecting the Features\n",
    "features = ['Open', 'High', 'Low', 'Volume']\n",
    "\n",
    "#Scaling\n",
    "scaler = MinMaxScaler()\n",
    "feature_transform = scaler.fit_transform(df[features])\n",
    "feature_transform = pd.DataFrame(columns=features, data=feature_transform, index=df.index)\n",
    "# print(feature_transform.head())\n",
    "\n",
    "\n",
    "#splitting to Training set and Test Set\n",
    "timesplit = TimeSeriesSplit(n_splits=10)\n",
    "for train_index, test_index in timesplit.split(feature_transform):\n",
    "  # X_train, X_test = feature_transform[:len(train_index)], feature_transform[len(train_index): (len(train_index) + len(test_index))]\n",
    "  X_train, X_test = feature_transform[:len(train_index)], feature_transform[len(train_index): ]\n",
    "  y_train, y_test = output_var[:len(train_index)].values.ravel(), output_var[len(train_index): (len(train_index) + len(test_index))].values.ravel()\n",
    "\n",
    "#process the data for LSTM\n",
    "trainX = np.array(X_train)\n",
    "testX = np.array(X_test)\n",
    "X_train = trainX.reshape(X_train.shape[0], 1, X_train.shape[1])\n",
    "X_test = testX.reshape(X_test.shape[0], 1, X_test.shape[1])\n",
    "\n",
    "\n",
    "#Building the LSTM Model\n",
    "lstm = Sequential()\n",
    "# lstm.add(LSTM(32, input_shape=(1, trainX.shape[1]), activation=\"selu\", return_sequences=False))\n",
    "lstm.add(LSTM(32, input_shape=(1, trainX.shape[1]), activation=\"elu\", return_sequences=False))\n",
    "# lstm.add(LSTM(32, activation=\"tanh\", return_sequences=False))\n",
    "lstm.add(Dense(32, activation='elu'))\n",
    "lstm.add(Dense(2, activation='elu'))\n",
    "lstm.add(Dense(1))\n",
    "lstm.compile(loss=\"mean_squared_error\", optimizer=\"adam\")\n",
    "# plot_model(lstm, show_shapes=True, show_layer_names=True)"
   ]
  },
  {
   "cell_type": "code",
   "execution_count": 180,
   "metadata": {},
   "outputs": [],
   "source": [
    "#early stopping\n",
    "earlyStop = EarlyStopping(\n",
    "  monitor='loss',\n",
    "  min_delta=0.01,\n",
    "  patience=10,\n",
    "  mode='min',\n",
    "  verbose=1,\n",
    "  restore_best_weights=True\n",
    ")"
   ]
  },
  {
   "cell_type": "code",
   "execution_count": 184,
   "metadata": {},
   "outputs": [
    {
     "name": "stdout",
     "output_type": "stream",
     "text": [
      "Epoch 1/300\n",
      "1168/1168 [==============================] - 2s 1ms/step - loss: 0.4590\n",
      "Epoch 2/300\n",
      "1168/1168 [==============================] - 1s 1ms/step - loss: 8.5442\n",
      "Epoch 3/300\n",
      "1168/1168 [==============================] - 1s 1ms/step - loss: 2.6068\n",
      "Epoch 4/300\n",
      "1168/1168 [==============================] - 1s 1ms/step - loss: 0.4423\n",
      "Epoch 5/300\n",
      "1168/1168 [==============================] - 1s 1ms/step - loss: 0.0281\n",
      "Epoch 6/300\n",
      "1168/1168 [==============================] - 1s 1ms/step - loss: 0.0192\n",
      "Epoch 7/300\n",
      "1168/1168 [==============================] - 1s 1ms/step - loss: 0.0168\n",
      "Epoch 8/300\n",
      "1168/1168 [==============================] - 1s 1ms/step - loss: 0.0131\n",
      "Epoch 9/300\n",
      "1168/1168 [==============================] - 1s 1ms/step - loss: 0.0120\n",
      "Epoch 10/300\n",
      "1168/1168 [==============================] - 1s 1ms/step - loss: 0.0116\n",
      "Epoch 11/300\n",
      "1168/1168 [==============================] - 1s 1ms/step - loss: 0.0113\n",
      "Epoch 12/300\n",
      "1168/1168 [==============================] - 1s 1ms/step - loss: 0.0112\n",
      "Epoch 13/300\n",
      "1168/1168 [==============================] - 1s 1ms/step - loss: 0.0111\n",
      "Epoch 14/300\n",
      "1168/1168 [==============================] - 2s 1ms/step - loss: 0.0110\n",
      "Epoch 15/300\n",
      "1168/1168 [==============================] - 2s 2ms/step - loss: 0.0109\n",
      "Epoch 16/300\n",
      "1168/1168 [==============================] - 2s 1ms/step - loss: 0.0110\n",
      "Epoch 17/300\n",
      "1148/1168 [============================>.] - ETA: 0s - loss: 0.0096Restoring model weights from the end of the best epoch: 7.\n",
      "1168/1168 [==============================] - 2s 2ms/step - loss: 0.0111\n",
      "Epoch 17: early stopping\n"
     ]
    }
   ],
   "source": [
    "#Model Training\n",
    "# history=lstm.fit(X_train, y_train, epochs=100, batch_size=8, verbose=1, shuffle=False)\n",
    "history=lstm.fit(X_train, y_train, epochs=300, batch_size=8, verbose=1, shuffle=False, callbacks=[earlyStop])\n"
   ]
  },
  {
   "cell_type": "code",
   "execution_count": 185,
   "metadata": {},
   "outputs": [],
   "source": [
    "#LSTM Prediction\n",
    "y_pred = lstm.predict(X_test)"
   ]
  },
  {
   "cell_type": "code",
   "execution_count": 213,
   "metadata": {},
   "outputs": [
    {
     "data": {
      "text/plain": [
       "<matplotlib.legend.Legend at 0x140c55c00>"
      ]
     },
     "execution_count": 213,
     "metadata": {},
     "output_type": "execute_result"
    },
    {
     "data": {
      "image/png": "[encoded data removed]",
      "text/plain": [
       "<Figure size 432x288 with 1 Axes>"
      ]
     },
     "metadata": {
      "needs_background": "light"
     },
     "output_type": "display_data"
    }
   ],
   "source": [
    "#Predicted vs True Adj Close Value – LSTM\n",
    "# plt.plot(y_test, label='True Value')\n",
    "# plt.plot(y_pred, label='LSTM Value')\n",
    "# start = 530\n",
    "# end = 580\n",
    "start = 0\n",
    "end = len(y_pred)\n",
    "\n",
    "plt.plot(y_test[start:end], label='True Value')\n",
    "plt.plot(y_pred[start:end], label='L.S.T.M Value')\n",
    "plt.title(\"L.S.T.M Predictions\")\n",
    "plt.xlabel('Time Scale')\n",
    "plt.ylabel('Scaled USD')\n",
    "plt.legend()"
   ]
  },
  {
   "cell_type": "code",
   "execution_count": 177,
   "metadata": {},
   "outputs": [
    {
     "data": {
      "image/png": "[encoded data removed]",
      "text/plain": [
       "<Figure size 432x288 with 1 Axes>"
      ]
     },
     "metadata": {
      "needs_background": "light"
     },
     "output_type": "display_data"
    }
   ],
   "source": [
    "pd.DataFrame(history.history).plot()\n",
    "plt.show()"
   ]
  }
 ],
 "metadata": {
  "interpreter": {
   "hash": "2fdefa0c5f9fd1e1a2e8fa4044f81a1fea5bebd8136e8d853afc4b5273fee125"
  },
  "kernelspec": {
   "display_name": "Python 3.10.4 ('venv': venv)",
   "language": "python",
   "name": "python3"
  },
  "language_info": {
   "codemirror_mode": {
    "name": "ipython",
    "version": 3
   },
   "file_extension": ".py",
   "mimetype": "text/x-python",
   "name": "python",
   "nbconvert_exporter": "python",
   "pygments_lexer": "ipython3",
   "version": "3.10.4"
  },
  "orig_nbformat": 4
 },
 "nbformat": 4,
 "nbformat_minor": 2
}
