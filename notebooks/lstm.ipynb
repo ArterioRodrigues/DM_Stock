{
 "cells": [
  {
   "cell_type": "code",
   "execution_count": null,
   "metadata": {},
   "outputs": [],
   "source": []
  },
  {
   "cell_type": "code",
   "execution_count": 19,
   "metadata": {},
   "outputs": [],
   "source": [
    "#Importing the Libraries\n",
    "from os import minor\n",
    "import pandas as pd\n",
    "import numpy as np\n",
    "import matplotlib.pyplot as plt\n",
    "from sklearn.preprocessing import MinMaxScaler\n",
    "from keras.layers import LSTM, Dense, Dropout\n",
    "from sklearn.model_selection import TimeSeriesSplit\n",
    "from keras.callbacks import EarlyStopping\n",
    "from keras.models import Sequential\n",
    "from keras.utils.vis_utils import plot_model"
   ]
  },
  {
   "cell_type": "code",
   "execution_count": 20,
   "metadata": {},
   "outputs": [],
   "source": [
    "\n",
    "#Get The Dataset\n",
    "df = pd.read_csv('../CSV/MSFT_kaggle.csv', na_values=['null'], index_col='Date', parse_dates=True,infer_datetime_format=True)\n",
    "# print(df.head())\n",
    "\n",
    "#Print the shape of Dataframe and Check for Null values\n",
    "# print('Df Shape: ', df.shape)\n",
    "# print('Null values present: ', df.isnull().values.any())\n",
    "\n",
    "#plot the true adj close value\n",
    "# df['Adj Close'].plot()\n",
    "# plt.show()\n",
    "\n",
    "#Set Target Variable\n",
    "output_var = pd.DataFrame(df['Adj Close'])\n",
    "\n",
    "#Selecting the Features\n",
    "features = ['Open', 'High', 'Low', 'Volume']\n",
    "\n",
    "#Scaling\n",
    "scaler = MinMaxScaler()\n",
    "feature_transform = scaler.fit_transform(df[features])\n",
    "feature_transform = pd.DataFrame(columns=features, data=feature_transform, index=df.index)\n",
    "# print(feature_transform.head())\n",
    "\n",
    "\n",
    "#splitting to Training set and Test Set\n",
    "timesplit = TimeSeriesSplit(n_splits=10)\n",
    "for train_index, test_index in timesplit.split(feature_transform):\n",
    "  # X_train, X_test = feature_transform[:len(train_index)], feature_transform[len(train_index): (len(train_index) + len(test_index))]\n",
    "  X_train, X_test = feature_transform[:len(train_index)], feature_transform[len(train_index): ]\n",
    "  y_train, y_test = output_var[:len(train_index)].values.ravel(), output_var[len(train_index): (len(train_index) + len(test_index))].values.ravel()\n",
    "\n",
    "#process the data for LSTM\n",
    "trainX = np.array(X_train)\n",
    "testX = np.array(X_test)\n",
    "X_train = trainX.reshape(X_train.shape[0], 1, X_train.shape[1])\n",
    "X_test = testX.reshape(X_test.shape[0], 1, X_test.shape[1])\n",
    "\n",
    "\n",
    "\n",
    "#Building the LSTM Model\n",
    "lstm = Sequential()\n",
    "lstm.add(LSTM(32, input_shape=(1, trainX.shape[1]), activation=\"selu\", return_sequences=False))\n",
    "# lstm.add(LSTM(32, activation=\"tanh\", return_sequences=False))\n",
    "lstm.add(Dense(1))\n",
    "lstm.compile(loss=\"mean_squared_error\", optimizer=\"adam\")\n",
    "# plot_model(lstm, show_shapes=True, show_layer_names=True)"
   ]
  },
  {
   "cell_type": "code",
   "execution_count": 21,
   "metadata": {},
   "outputs": [],
   "source": [
    "#early stopping\n",
    "earlyStop = EarlyStopping(\n",
    "  monitor='loss',\n",
    "  min_delta=0.01,\n",
    "  patience=25,\n",
    "  mode='min',\n",
    "  verbose=1,\n",
    "  restore_best_weights=True\n",
    ")"
   ]
  },
  {
   "cell_type": "code",
   "execution_count": 22,
   "metadata": {},
   "outputs": [
    {
     "name": "stdout",
     "output_type": "stream",
     "text": [
      "Epoch 1/300\n",
      "958/958 [==============================] - 2s 1ms/step - loss: 4.4942\n",
      "Epoch 2/300\n",
      "958/958 [==============================] - 1s 2ms/step - loss: 33.5864\n",
      "Epoch 3/300\n",
      "958/958 [==============================] - 1s 1ms/step - loss: 5.4616\n",
      "Epoch 4/300\n",
      "958/958 [==============================] - 1s 1ms/step - loss: 1.5485\n",
      "Epoch 5/300\n",
      "958/958 [==============================] - 1s 1ms/step - loss: 1.1940\n",
      "Epoch 6/300\n",
      "958/958 [==============================] - 1s 1ms/step - loss: 1.0882\n",
      "Epoch 7/300\n",
      "958/958 [==============================] - 1s 1ms/step - loss: 1.0020\n",
      "Epoch 8/300\n",
      "958/958 [==============================] - 1s 1ms/step - loss: 0.9390\n",
      "Epoch 9/300\n",
      "958/958 [==============================] - 1s 1ms/step - loss: 0.8966\n",
      "Epoch 10/300\n",
      "958/958 [==============================] - 1s 1ms/step - loss: 0.8687\n",
      "Epoch 11/300\n",
      "958/958 [==============================] - 1s 1ms/step - loss: 0.8503\n",
      "Epoch 12/300\n",
      "958/958 [==============================] - 1s 1ms/step - loss: 0.8377\n",
      "Epoch 13/300\n",
      "958/958 [==============================] - 1s 1ms/step - loss: 0.8287\n",
      "Epoch 14/300\n",
      "958/958 [==============================] - 1s 1ms/step - loss: 0.8218\n",
      "Epoch 15/300\n",
      "958/958 [==============================] - 1s 1ms/step - loss: 0.8162\n",
      "Epoch 16/300\n",
      "958/958 [==============================] - 1s 1ms/step - loss: 0.8114\n",
      "Epoch 17/300\n",
      "958/958 [==============================] - 1s 1ms/step - loss: 0.8070\n",
      "Epoch 18/300\n",
      "958/958 [==============================] - 1s 1ms/step - loss: 0.8030\n",
      "Epoch 19/300\n",
      "958/958 [==============================] - 1s 1ms/step - loss: 0.7990\n",
      "Epoch 20/300\n",
      "958/958 [==============================] - 1s 1ms/step - loss: 0.7952\n",
      "Epoch 21/300\n",
      "958/958 [==============================] - 1s 1ms/step - loss: 0.7915\n",
      "Epoch 22/300\n",
      "958/958 [==============================] - 1s 1ms/step - loss: 0.7879\n",
      "Epoch 23/300\n",
      "958/958 [==============================] - 1s 1ms/step - loss: 0.7845\n",
      "Epoch 24/300\n",
      "958/958 [==============================] - 1s 1ms/step - loss: 0.7810\n",
      "Epoch 25/300\n",
      "958/958 [==============================] - 1s 1ms/step - loss: 0.7776\n",
      "Epoch 26/300\n",
      "958/958 [==============================] - 1s 1ms/step - loss: 0.7743\n",
      "Epoch 27/300\n",
      "958/958 [==============================] - 1s 1ms/step - loss: 0.7710\n",
      "Epoch 28/300\n",
      "958/958 [==============================] - 1s 1ms/step - loss: 0.7679\n",
      "Epoch 29/300\n",
      "958/958 [==============================] - 1s 1ms/step - loss: 0.7648\n",
      "Epoch 30/300\n",
      "958/958 [==============================] - 1s 1ms/step - loss: 0.7618\n",
      "Epoch 31/300\n",
      "958/958 [==============================] - 2s 2ms/step - loss: 0.7589\n",
      "Epoch 32/300\n",
      "958/958 [==============================] - 1s 2ms/step - loss: 0.7561\n",
      "Epoch 33/300\n",
      "958/958 [==============================] - 2s 2ms/step - loss: 0.7534\n",
      "Epoch 34/300\n",
      "958/958 [==============================] - 2s 2ms/step - loss: 0.7508\n",
      "Epoch 35/300\n",
      "958/958 [==============================] - 2s 2ms/step - loss: 0.7481\n",
      "Epoch 36/300\n",
      "958/958 [==============================] - 2s 2ms/step - loss: 0.7455\n",
      "Epoch 37/300\n",
      "958/958 [==============================] - 1s 2ms/step - loss: 0.7430\n",
      "Epoch 38/300\n",
      "958/958 [==============================] - 1s 2ms/step - loss: 0.7405\n",
      "Epoch 39/300\n",
      "958/958 [==============================] - 1s 1ms/step - loss: 0.7381\n",
      "Epoch 40/300\n",
      "958/958 [==============================] - 1s 2ms/step - loss: 0.7358\n",
      "Epoch 41/300\n",
      "958/958 [==============================] - 1s 2ms/step - loss: 0.7336\n",
      "Epoch 42/300\n",
      "958/958 [==============================] - 2s 2ms/step - loss: 0.7315\n",
      "Epoch 43/300\n",
      "958/958 [==============================] - 1s 2ms/step - loss: 0.7296\n",
      "Epoch 44/300\n",
      "958/958 [==============================] - 1s 2ms/step - loss: 0.7278\n",
      "Epoch 45/300\n",
      "958/958 [==============================] - 1s 2ms/step - loss: 0.7260\n",
      "Epoch 46/300\n",
      "958/958 [==============================] - 2s 2ms/step - loss: 0.7243\n",
      "Epoch 47/300\n",
      "958/958 [==============================] - 1s 2ms/step - loss: 0.7226\n",
      "Epoch 48/300\n",
      "958/958 [==============================] - 2s 2ms/step - loss: 0.7211\n",
      "Epoch 49/300\n",
      "958/958 [==============================] - 1s 2ms/step - loss: 0.7197\n",
      "Epoch 50/300\n",
      "958/958 [==============================] - 2s 2ms/step - loss: 0.7189\n",
      "Epoch 51/300\n",
      "958/958 [==============================] - 2s 2ms/step - loss: 0.7187\n",
      "Epoch 52/300\n",
      "958/958 [==============================] - 2s 2ms/step - loss: 0.7189\n",
      "Epoch 53/300\n",
      "958/958 [==============================] - 1s 1ms/step - loss: 0.7191\n",
      "Epoch 54/300\n",
      "958/958 [==============================] - 1s 2ms/step - loss: 0.7195\n",
      "Epoch 55/300\n",
      "958/958 [==============================] - 1s 1ms/step - loss: 0.7197\n",
      "Epoch 56/300\n",
      "958/958 [==============================] - 1s 2ms/step - loss: 0.7210\n",
      "Epoch 57/300\n",
      "958/958 [==============================] - 2s 2ms/step - loss: 0.7226\n",
      "Epoch 58/300\n",
      "958/958 [==============================] - 2s 2ms/step - loss: 0.7248\n",
      "Epoch 59/300\n",
      "958/958 [==============================] - 2s 2ms/step - loss: 0.7270\n",
      "Epoch 60/300\n",
      "958/958 [==============================] - 2s 2ms/step - loss: 0.7287\n",
      "Epoch 61/300\n",
      "958/958 [==============================] - 2s 2ms/step - loss: 0.7301\n",
      "Epoch 62/300\n",
      "958/958 [==============================] - 2s 2ms/step - loss: 0.7312\n",
      "Epoch 63/300\n",
      "958/958 [==============================] - 2s 2ms/step - loss: 0.7332\n",
      "Epoch 64/300\n",
      "958/958 [==============================] - 2s 2ms/step - loss: 0.7357\n",
      "Epoch 65/300\n",
      "958/958 [==============================] - 2s 2ms/step - loss: 0.7385\n",
      "Epoch 66/300\n",
      "958/958 [==============================] - 2s 2ms/step - loss: 0.7414\n",
      "Epoch 67/300\n",
      "958/958 [==============================] - 2s 2ms/step - loss: 0.7430\n",
      "Epoch 68/300\n",
      "958/958 [==============================] - 2s 2ms/step - loss: 0.7444\n",
      "Epoch 69/300\n",
      "958/958 [==============================] - 2s 2ms/step - loss: 0.7471\n",
      "Epoch 70/300\n",
      "958/958 [==============================] - 2s 2ms/step - loss: 0.7499\n",
      "Epoch 71/300\n",
      "958/958 [==============================] - 2s 2ms/step - loss: 0.7532\n",
      "Epoch 72/300\n",
      "958/958 [==============================] - 2s 2ms/step - loss: 0.7559\n",
      "Epoch 73/300\n",
      "954/958 [============================>.] - ETA: 0s - loss: 0.7609Restoring model weights from the end of the best epoch: 48.\n",
      "958/958 [==============================] - 2s 2ms/step - loss: 0.7581\n",
      "Epoch 73: early stopping\n"
     ]
    }
   ],
   "source": [
    "\n",
    "#Model Training\n",
    "# history=lstm.fit(X_train, y_train, epochs=100, batch_size=8, verbose=1, shuffle=False)\n",
    "history=lstm.fit(X_train, y_train, epochs=300, batch_size=8, verbose=1, shuffle=False, callbacks=[earlyStop])\n",
    "\n",
    "#LSTM Prediction\n",
    "y_pred = lstm.predict(X_test)\n",
    "\n"
   ]
  },
  {
   "cell_type": "code",
   "execution_count": 23,
   "metadata": {},
   "outputs": [
    {
     "data": {
      "text/plain": [
       "<matplotlib.legend.Legend at 0x12e95fa60>"
      ]
     },
     "execution_count": 23,
     "metadata": {},
     "output_type": "execute_result"
    },
    {
     "data": {
      "image/png": "[encoded data removed]",
      "text/plain": [
       "<Figure size 432x288 with 1 Axes>"
      ]
     },
     "metadata": {
      "needs_background": "light"
     },
     "output_type": "display_data"
    }
   ],
   "source": [
    "#Predicted vs True Adj Close Value – LSTM\n",
    "plt.plot(y_test, label='True Value')\n",
    "plt.plot(y_pred, label='LSTM Value')\n",
    "plt.title(\"Prediction by LSTM\")\n",
    "plt.xlabel('Time Scale')\n",
    "plt.ylabel('Scaled USD')\n",
    "plt.legend()"
   ]
  },
  {
   "cell_type": "code",
   "execution_count": 24,
   "metadata": {},
   "outputs": [
    {
     "data": {
      "image/png": "[encoded data removed]",
      "text/plain": [
       "<Figure size 432x288 with 1 Axes>"
      ]
     },
     "metadata": {
      "needs_background": "light"
     },
     "output_type": "display_data"
    }
   ],
   "source": [
    "pd.DataFrame(history.history).plot()\n",
    "plt.show()"
   ]
  }
 ],
 "metadata": {
  "interpreter": {
   "hash": "14a6a4f192fb72ab1709760558d65f64501bb2dc5be2dd00f37039b0c269309b"
  },
  "kernelspec": {
   "display_name": "Python 3.10.4 ('venv': venv)",
   "language": "python",
   "name": "python3"
  },
  "language_info": {
   "codemirror_mode": {
    "name": "ipython",
    "version": 3
   },
   "file_extension": ".py",
   "mimetype": "text/x-python",
   "name": "python",
   "nbconvert_exporter": "python",
   "pygments_lexer": "ipython3",
   "version": "3.10.4"
  },
  "orig_nbformat": 4
 },
 "nbformat": 4,
 "nbformat_minor": 2
}
